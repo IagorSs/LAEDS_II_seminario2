{
 "metadata": {
  "language_info": {
   "codemirror_mode": {
    "name": "ipython",
    "version": 3
   },
   "file_extension": ".py",
   "mimetype": "text/x-python",
   "name": "python",
   "nbconvert_exporter": "python",
   "pygments_lexer": "ipython3",
   "version": "3.8.5-final"
  },
  "orig_nbformat": 2,
  "kernelspec": {
   "name": "python3",
   "display_name": "Python 3.8.5 64-bit",
   "metadata": {
    "interpreter": {
     "hash": "2db524e06e9f5f4ffedc911c917cb75e12dbc923643829bf417064a77eb14d37"
    }
   }
  }
 },
 "nbformat": 4,
 "nbformat_minor": 2,
 "cells": [
  {
   "source": [
    "# Cobertura mínima por conjuntos\n",
    "\n",
    "---\n",
    "\n",
    "## ALGUMA DESCRIÇÃO AQUI\n",
    "\n",
    "---"
   ],
   "cell_type": "markdown",
   "metadata": {}
  },
  {
   "source": [
    "## Grupo\n",
    "- Arthur Lopes Sabioni\n",
    "- Maria Izamara Clara da Silva Coutinho\n",
    "- Iagor de Sousa Penaranda Silva\n",
    "- Julia Bindi Alencar de Jesus\n",
    "- Pablo Henrique Santos\n",
    "\n",
    "## Links importantes:\n",
    "[Apresentação](https://docs.google.com/presentation/d/1YixxE8moP5xDrDffB20MJo5sAXiDzXCuSTd17zEU3cU/edit#slide=id.p)\n",
    "\n",
    "[Código pego como referência](https://sites.icmc.usp.br/andretta/ensino/aulas/sme0216-5826-2-15/aula4-cobertura.pdf)"
   ],
   "cell_type": "markdown",
   "metadata": {}
  }
 ]
}