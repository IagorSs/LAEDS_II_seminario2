{
 "metadata": {
  "language_info": {
   "codemirror_mode": {
    "name": "ipython",
    "version": 3
   },
   "file_extension": ".py",
   "mimetype": "text/x-python",
   "name": "python",
   "nbconvert_exporter": "python",
   "pygments_lexer": "ipython3",
   "version": "3.9.2-final"
  },
  "orig_nbformat": 2,
  "kernelspec": {
   "name": "python392jvsc74a57bd0e00c480ae7e3d5e7171f38ea6fedffbe731b8808f4aa360dec46acf6f1daf018",
   "display_name": "Python 3.9.2 64-bit"
  },
  "metadata": {
   "interpreter": {
    "hash": "e00c480ae7e3d5e7171f38ea6fedffbe731b8808f4aa360dec46acf6f1daf018"
   }
  }
 },
 "nbformat": 4,
 "nbformat_minor": 2,
 "cells": [
  {
   "source": [
    "# Cobertura mínima por conjuntos\n",
    "\n",
    "---\n",
    "\n",
    "## ALGUMA DESCRIÇÃO AQUI\n",
    "\n",
    "---"
   ],
   "cell_type": "markdown",
   "metadata": {}
  },
  {
   "source": [
    "## Grupo\n",
    "- Arthur Lopes Sabioni\n",
    "- Maria Izamara Clara da Silva Coutinho\n",
    "- Iagor de Sousa Penaranda Silva\n",
    "- Julia Bindi Alencar de Jesus\n",
    "- Pablo Henrique Santos\n",
    "\n",
    "## Links importantes:\n",
    "[Apresentação](https://docs.google.com/presentation/d/1YixxE8moP5xDrDffB20MJo5sAXiDzXCuSTd17zEU3cU/edit#slide=id.p)\n",
    "\n",
    "[Código pego como referência](https://sites.icmc.usp.br/andretta/ensino/aulas/sme0216-5826-2-15/aula4-cobertura.pdf)"
   ],
   "cell_type": "markdown",
   "metadata": {}
  },
  {
   "source": [
    "## Cobertura de conjuntos\n",
    "\n",
    "Considere:\n",
    "- `E`  e `F` um conjunto de elementos finitos;\n",
    "- `T` uma subcoleção de F;\n",
    "\n",
    "**Podemos dizer que `T` é cobertura de `E` se todo elemento de `E` está em algum conjunto de `T`**\n"
   ],
   "cell_type": "markdown",
   "metadata": {}
  },
  {
   "source": [
    "## O Problema\n",
    "\n",
    "Considere:\n",
    "- `E` um conjunto de elementos finitos;\n",
    "- `S` a coleção de subconjuntos de E;\n",
    "- `Cs` o custo para cada conjunto `s` pertencente à `S`;\n",
    "- `T` o um conjunto que cobre E;\n",
    "\n",
    "O nosso objetivo é encontrar uma coleção `T` cujo valor de `C(T)` seja o menor possível.\n"
   ],
   "cell_type": "markdown",
   "metadata": {}
  },
  {
   "source": [
    "## A Solução\n",
    "\n",
    "Para tanto, será apresentado abaixo o algoritmo elaborado por Chvátal, em seu modo recursivo, retirado do link passado como referência na seção de links importantes.\n",
    "\n",
    "        Algoritmo MinCC-Chvatal ´ (E, S, c):\n",
    "\n",
    "        1 se E = ∅\n",
    "\n",
    "        2   então devolva ∅;\n",
    "\n",
    "        3   senão seja Z em S tal que cZ /|Z ∩ E| é míınimo;\n",
    "\n",
    "        4       faça E ← E \\ Z;\n",
    "\n",
    "        5       faça S ← {S ∈ S : S ∩ E' = ∅};\n",
    "\n",
    "        6       seja c' a restrição de c a S;\n",
    "\n",
    "        7       faça T' ← MinCC-Chvátal(E', S', c');\n",
    "\n",
    "        8       devolva {Z} ∪ T';\n",
    "\n",
    "O algoritmo acima seleciona sempre o conjunto em S de menor custo por elemento, `Z`, e o retira de `S`. Além disso, remove os elementos presentes do conjunto finito `E`.\n",
    "\n",
    "Tal código nem sempre retorna o valor ótimo. É possível afirmar por indução que o ele é Hn-aproximação em |`E`|, como relatado abaixo:\n",
    "\n",
    "<img src=\"indução.png\">\n",
    "\n",
    "Portanto, o algorítmo em questão pode produzir coberturas de custo aproximado Hn*opt(E,S,c), cujo n:=|E|.\n"
   ],
   "cell_type": "markdown",
   "metadata": {}
  }
 ]
}